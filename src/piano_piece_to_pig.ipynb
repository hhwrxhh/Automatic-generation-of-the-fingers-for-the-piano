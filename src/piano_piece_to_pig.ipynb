{
 "cells": [
  {
   "cell_type": "code",
   "execution_count": null,
   "metadata": {},
   "outputs": [],
   "source": [
    "# !yes | add-apt-repository ppa:mscore-ubuntu/mscore3-stable &> /dev/null\n",
    "# !apt update &> /dev/null\n",
    "# !apt install musescore3 &> /dev/null\n",
    "# print(\"MuseScore installation finished\")\n"
   ]
  },
  {
   "cell_type": "code",
   "execution_count": 13,
   "metadata": {},
   "outputs": [],
   "source": [
    "import music21\n",
    "import random\n",
    "import os\n",
    "\n",
    "from music21 import *\n",
    "\n",
    "import pandas as pd\n",
    "from fractions import Fraction\n",
    "\n",
    "music_score_path = 'C:/Program Files/MuseScore 4/bin/MuseScore4.exe'\n",
    "music21.environment.set('musescoreDirectPNGPath', music_score_path)\n"
   ]
  },
  {
   "cell_type": "code",
   "execution_count": 2,
   "metadata": {},
   "outputs": [],
   "source": [
    "!mkdir output\n"
   ]
  },
  {
   "cell_type": "code",
   "execution_count": 3,
   "metadata": {},
   "outputs": [],
   "source": [
    "def round_if_more_than_2_decimal_places(value):\n",
    "    value_str = f\"{value:.10f}\"  \n",
    "    decimal_part = value_str.split(\".\")[1].rstrip(\"0\")\n",
    "    if len(decimal_part) > 3:\n",
    "        return round(value, 2)\n",
    "    return value"
   ]
  },
  {
   "cell_type": "code",
   "execution_count": 4,
   "metadata": {},
   "outputs": [],
   "source": [
    "def Stream2PIG(sf, test=False, n=0, beam=0, time_unit=0.5):\n",
    "    \"\"\"\n",
    "    Convert a Stream to PIG CSV format using Pandas.\n",
    "    \n",
    "    sf: music21 Stream object.\n",
    "    fname: Output CSV file name.\n",
    "    beam: 0 for right hand, 1 for left hand.\n",
    "    time_unit: Time scaling factor.\n",
    "    \"\"\"\n",
    "    data = []\n",
    "    idx = 0\n",
    "    name = None\n",
    "    pre_onset = 0\n",
    "    \n",
    "    for measure in sf.getElementsByClass(stream.Measure):\n",
    "        measure_idx = measure.measureNumber if measure.measureNumber is not None else idx\n",
    "        \n",
    "        for elem in measure.notesAndRests:\n",
    "            onset = pre_onset\n",
    "            value = elem.quarterLength\n",
    "\n",
    "            if isinstance(elem.quarterLength, Fraction):\n",
    "                if elem.quarterLength.denominator != 1:\n",
    "                    value = float(elem.quarterLength)\n",
    "                    \n",
    "            offset = onset + value\n",
    "            onset = round(onset, 2)\n",
    "            offset = round(offset, 2)\n",
    "            \n",
    "            if isinstance(elem, note.Note):\n",
    "                name = elem.nameWithOctave.replace('-', 'b')\n",
    "                fingering = None\n",
    "                if elem.articulations:\n",
    "                    for art in elem.articulations:\n",
    "                        if isinstance(art, articulations.Fingering):\n",
    "                            fingering = art.fingerNumber\n",
    "                \n",
    "                \n",
    "                if fingering is not None and (fingering < 1 or fingering > 5):\n",
    "                    print(f\"NOTE: {name}, Fingering {fingering} outside the valid range (1-5) at measure (idx): {measure_idx}\")\n",
    "                    measure.show()  \n",
    "                if fingering is None:\n",
    "                    print(f\"NOTE: {name}, Fingering None outside the valid range (1-5) at measure (idx): {measure_idx}\")\n",
    "                    measure.show() \n",
    "        \n",
    "\n",
    "                if beam == 0:\n",
    "                    data.append([idx, round(onset, 3), round(offset, 3), name, 0, 0, beam, fingering if fingering is not None else 99])\n",
    "                else:\n",
    "                    data.append([idx, round(onset, 3), round(offset, 3), name, 0, 0, beam, -fingering if fingering is not None else 99])\n",
    "                idx += 1\n",
    "            \n",
    "            elif isinstance(elem, chord.Chord):\n",
    "                name_pitch = [pitch.nameWithOctave.replace('-', 'b') for pitch in elem.pitches]\n",
    "                fingering = []\n",
    "                \n",
    "                for art in elem.articulations:\n",
    "                    if isinstance(art, articulations.Fingering):\n",
    "                        finger = art.fingerNumber if art.fingerNumber is not None else 99\n",
    "                        fingering.append(finger)\n",
    "                \n",
    "                while len(fingering) < len(name_pitch):\n",
    "                    fingering.append(99)\n",
    "                \n",
    "                for i in range(len(name_pitch)):\n",
    "                    if int(fingering[i]) < 1 or int(fingering[i]) > 5:\n",
    "                        print(f\"NOTE: {name_pitch[i]} Fingering {fingering[i]} outside the valid range (1-5) at measure (idx): {measure_idx}.\")\n",
    "                        measure.show()  \n",
    "                    if fingering is None:\n",
    "                        print(f\"NOTE: {name_pitch[i]} Fingering None outside the valid range (1-5) at measure (idx): {measure_idx}.\")\n",
    "                        measure.show()  \n",
    "                    if beam == 0:\n",
    "                        data.append([idx, round(onset, 3), round(offset, 3), name_pitch[i], 0, 0, beam, fingering[i] if fingering is not None else 99])\n",
    "                    else:\n",
    "                        data.append([idx, round(onset, 3), round(offset, 3), name_pitch[i], 0, 0, beam, -fingering[i] if fingering is not None else 99])    \n",
    "                    idx += 1\n",
    "            pre_onset = offset\n",
    "    df = pd.DataFrame(data, columns=[\"idx\", \"onset\", \"offset\", \"name\", \"col1\", \"col2\", \"beam\", \"fingering\"])\n",
    "    \n",
    "    return df\n"
   ]
  },
  {
   "cell_type": "code",
   "execution_count": 5,
   "metadata": {},
   "outputs": [],
   "source": [
    "def xml_to_csv(input_file, output_file):\n",
    "    \n",
    "    piece = music21.converter.parse(input_file)\n",
    "    right_hand = piece.parts[0]\n",
    "    left_hand = piece.parts[1]\n",
    "    \n",
    "    df_right = Stream2PIG(right_hand, test=True, n=11, beam=0, time_unit=1.0)\n",
    "    df_left = Stream2PIG(left_hand, test=True, n=11, beam=1, time_unit=1.0)\n",
    "    header = [\"ID\", \"onset_time\", \"offset_time\", \"pitch\", \\\n",
    "          \"onset_vel\", \"offset_vel\", \"channel\", \"finger\"]\n",
    "    result = pd.concat([df_right, df_left], axis=0, join='outer')\n",
    "    \n",
    "    result.to_csv(output_file, index=False, header=False)\n"
   ]
  },
  {
   "cell_type": "code",
   "execution_count": 15,
   "metadata": {},
   "outputs": [
    {
     "name": "stdout",
     "output_type": "stream",
     "text": [
      "1.mxl\n",
      "10.mxl\n",
      "11.mxl\n",
      "12.mxl\n",
      "13.mxl\n",
      "14.mxl\n",
      "15.mxl\n",
      "16.mxl\n",
      "17.mxl\n",
      "18.mxl\n",
      "19.mxl\n",
      "2.mxl\n",
      "20.mxl\n",
      "21.mxl\n",
      "22.mxl\n",
      "23.mxl\n",
      "24.mxl\n",
      "25.mxl\n",
      "26.mxl\n",
      "27.mxl\n",
      "28.mxl\n",
      "29.mxl\n",
      "3.mxl\n",
      "30.mxl\n",
      "31.mxl\n",
      "32.mxl\n",
      "33.mxl\n",
      "34.mxl\n",
      "35.mxl\n",
      "36.mxl\n",
      "37.mxl\n",
      "38.mxl\n",
      "39.mxl\n",
      "4.mxl\n",
      "40.mxl\n",
      "41.mxl\n",
      "42.mxl\n",
      "45.mxl\n",
      "46.mxl\n",
      "47.mxl\n",
      "48.mxl\n",
      "49.mxl\n",
      "5.mxl\n",
      "50.mxl\n",
      "50_Little_Etudes_No._11_-_20__Isaak_Berkovich.mxl\n",
      "50_Little_Etudes_No._1_-_10__Isaak_Berkovich.mxl\n",
      "51.mxl\n",
      "52.mxl\n",
      "53.mxl\n",
      "54.mxl\n",
      "57.mxl\n",
      "58.mxl\n",
      "59.mxl\n",
      "6.mxl\n",
      "61.mxl\n",
      "62.mxl\n",
      "63.mxl\n",
      "64.mxl\n",
      "66.mxl\n",
      "67.mxl\n",
      "69.mxl\n",
      "7.mxl\n",
      "70.mxl\n",
      "72.mxl\n",
      "74.mxl\n",
      "75.mxl\n",
      "76.mxl\n",
      "77.mxl\n",
      "78.mxl\n",
      "79.mxl\n",
      "8.mxl\n",
      "80.mxl\n",
      "9.mxl\n",
      "Air_on_the_G_string_with_fingering.mxl\n",
      "All of Me - Lead Sheet with Fingering.mxl\n",
      "Bach G minor arr. Luo Ni (with fingering).mxl\n",
      "Canon_in_D_By_OMID.mxl\n",
      "Chopin_-_Nocturne_No.20_with_fingering_in_C_Minor_Op._posth.mxl\n"
     ]
    },
    {
     "name": "stderr",
     "output_type": "stream",
     "text": [
      "C:\\python\\Lib\\site-packages\\music21\\musicxml\\xmlToM21.py:5254: MusicXMLWarning: Could not import wedge: Error in getting DynamicWedges\n",
      "  warnings.warn(f'Could not import {tag}: {excep}', MusicXMLWarning)\n"
     ]
    },
    {
     "name": "stdout",
     "output_type": "stream",
     "text": [
      "Cuphead - Inkwell Isle (Beginner-Intermediate with Fingering) – Kristofer Maddigan.mxl\n",
      "Czerny - School Of Velocity - Op. 299 No. 11.mxl\n",
      "Czerny - School Of Velocity - Op. 299 No. 2.mxl\n",
      "Czerny - School Of Velocity - Op. 299 No. 3.mxl\n",
      "Czerny - School Of Velocity - Op. 299 No. 4.mxl\n",
      "Czerny - School Of Velocity - Op. 299 No. 5.mxl\n",
      "Czerny - School Of Velocity - Op. 299 No. 6.mxl\n",
      "Czerny - School Of Velocity - Op. 299 No. 8.mxl\n",
      "Czerny - School Of Velocity - Op. 299 No. 9.mxl\n",
      "Czerny_-_School_Of_Velocity_-_Op._299_No._1.mxl\n",
      "Golden Hour - JVKE (with fingering).mxl\n",
      "Great Fairy Fountain - Zelda (with fingering).mxl\n",
      "Greensleeves_Piano_Debutant.mxl\n",
      "Gymnopedie1.mxl\n",
      "Invention_4_by_J_S_Bach_BWV_775_for_Piano_with_fingering.mxl\n",
      "Mariage_dAmour_arr_Elpiano_w_fingering.mxl\n",
      "Mazurka.mxl\n",
      "Minuet _in_F_Major_Anna_Bachmxl.mxl\n",
      "Minuet_in_G_Major_Bach.mxl\n",
      "Nerevar Rising - Morrowind – Jeremy Soule Morrowind Theme with fingering.mxl\n",
      "Nostalgie – Olivier Toussaint.mxl\n"
     ]
    },
    {
     "name": "stderr",
     "output_type": "stream",
     "text": [
      "C:\\python\\Lib\\site-packages\\music21\\musicxml\\xmlToM21.py:4163: MusicXMLWarning: Line <dashes> stop without start\n",
      "  warnings.warn('Line <' + mxObj.tag + '> stop without start', MusicXMLWarning)\n"
     ]
    },
    {
     "name": "stdout",
     "output_type": "stream",
     "text": [
      "Petite_Fleur____Becket_EASE.mxl\n",
      "Prelude_No._1_in_C_Major_BWV_846_with_finger_suggestions_-_Johann_Sebastian_Bach (1).mxl\n",
      "Preparatory_Exercises.mxl\n",
      "Root Beer Rag Theme - Easy to read (with fingering).mxl\n",
      "Scherzo by Franz Joseph Haydn.mxl\n",
      "The_Art_of_Fugue_Contrapunctus_1_BWV_1080__Johann_Sebastian_Bach_includes_fingering.mxl\n"
     ]
    },
    {
     "name": "stderr",
     "output_type": "stream",
     "text": [
      "C:\\python\\Lib\\site-packages\\music21\\musicxml\\xmlToM21.py:4163: MusicXMLWarning: Line <bracket> stop without start\n",
      "  warnings.warn('Line <' + mxObj.tag + '> stop without start', MusicXMLWarning)\n"
     ]
    },
    {
     "name": "stdout",
     "output_type": "stream",
     "text": [
      "The_Harebell_by_William_Smallwood3.mxl\n",
      "Waltz_in_A_minor_2024_With_Fingerings.mxl\n"
     ]
    }
   ],
   "source": [
    "for dirname, _, filenames in os.walk('../data/own_mxl'):\n",
    "    for filename in filenames:\n",
    "        print(filename)\n",
    "        full_name = os.path.join(dirname, filename)\n",
    "        xml_to_csv(full_name, f'output/{filename[:-4]}.csv')\n"
   ]
  }
 ],
 "metadata": {
  "kaggle": {
   "accelerator": "gpu",
   "dataSources": [
    {
     "datasetId": 6532140,
     "sourceId": 10712301,
     "sourceType": "datasetVersion"
    },
    {
     "datasetId": 6655885,
     "sourceId": 10735025,
     "sourceType": "datasetVersion"
    },
    {
     "datasetId": 6527006,
     "isSourceIdPinned": true,
     "sourceId": 10549015,
     "sourceType": "datasetVersion"
    }
   ],
   "dockerImageVersionId": 30840,
   "isGpuEnabled": true,
   "isInternetEnabled": true,
   "language": "python",
   "sourceType": "notebook"
  },
  "kernelspec": {
   "display_name": "Python 3 (ipykernel)",
   "language": "python",
   "name": "python3"
  },
  "language_info": {
   "codemirror_mode": {
    "name": "ipython",
    "version": 3
   },
   "file_extension": ".py",
   "mimetype": "text/x-python",
   "name": "python",
   "nbconvert_exporter": "python",
   "pygments_lexer": "ipython3",
   "version": "3.11.3"
  }
 },
 "nbformat": 4,
 "nbformat_minor": 4
}
