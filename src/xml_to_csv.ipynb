{
 "cells": [
  {
   "cell_type": "markdown",
   "metadata": {},
   "source": [
    "Files to update:\n",
    "- Ballade pour Adeline (with fingering) - Senneville\n",
    "- Czerny - School Of Velocity - Op. 299 No. 7\n",
    "- Fantasia_in_C_Minor_BWV_906__Johann_Sebastian_Bach_includes_fingering"
   ]
  },
  {
   "cell_type": "code",
   "execution_count": null,
   "metadata": {},
   "outputs": [],
   "source": [
    "import music21\n",
    "import random\n",
    "import os\n",
    "\n",
    "from music21 import *\n",
    "\n",
    "import pandas as pd\n",
    "\n",
    "music_score_path = 'C:/Program Files/MuseScore 4/bin/MuseScore4.exe'\n",
    "music21.environment.set('musescoreDirectPNGPath', music_score_path)\n"
   ]
  },
  {
   "cell_type": "code",
   "execution_count": null,
   "metadata": {},
   "outputs": [],
   "source": [
    "!mkdir output_new_left\n",
    "!mkdir output_new_right\n",
    "!mkdir new_csv_train"
   ]
  },
  {
   "cell_type": "code",
   "execution_count": null,
   "metadata": {
    "execution": {
     "iopub.execute_input": "2025-02-12T19:13:37.053635Z",
     "iopub.status.busy": "2025-02-12T19:13:37.053388Z",
     "iopub.status.idle": "2025-02-12T19:14:15.476922Z",
     "shell.execute_reply": "2025-02-12T19:14:15.475915Z",
     "shell.execute_reply.started": "2025-02-12T19:13:37.053605Z"
    }
   },
   "outputs": [
    {
     "name": "stdout",
     "output_type": "stream",
     "text": [
      "yes: standard output: Broken pipe\n",
      "MuseScore installation finished\n"
     ]
    }
   ],
   "source": [
    "# !yes | add-apt-repository ppa:mscore-ubuntu/mscore3-stable &> /dev/null\n",
    "# !apt update &> /dev/null\n",
    "# !apt install musescore3 &> /dev/null\n",
    "# print(\"MuseScore installation finished\")\n"
   ]
  },
  {
   "cell_type": "code",
   "execution_count": null,
   "metadata": {
    "execution": {
     "iopub.execute_input": "2025-02-12T19:52:30.635471Z",
     "iopub.status.busy": "2025-02-12T19:52:30.635139Z",
     "iopub.status.idle": "2025-02-12T19:52:30.643701Z",
     "shell.execute_reply": "2025-02-12T19:52:30.642945Z",
     "shell.execute_reply.started": "2025-02-12T19:52:30.635441Z"
    }
   },
   "outputs": [],
   "source": [
    "def Stream2PIG(sf, fname, test=False, n=0, beam=0, time_unit=0.5):\n",
    "    \"\"\"\n",
    "    Convert a Stream to PIG CSV format using Pandas.\n",
    "    \n",
    "    sf: music21 Stream object.\n",
    "    fname: Output CSV file name.\n",
    "    beam: 0 for right hand, 1 for left hand.\n",
    "    time_unit: Time scaling factor.\n",
    "    \"\"\"\n",
    "    data = []\n",
    "    idx = 0\n",
    "    name = None\n",
    "    \n",
    "    for measure in sf.getElementsByClass(stream.Measure):\n",
    "        measure_idx = measure.measureNumber if measure.measureNumber is not None else idx\n",
    "        \n",
    "        for elem in measure.notesAndRests:\n",
    "            onset = elem.offset * time_unit\n",
    "            offset = (elem.offset + elem.quarterLength) * time_unit\n",
    "            \n",
    "            if isinstance(elem, note.Note):\n",
    "                name = elem.nameWithOctave.replace('-', 'b')\n",
    "                fingering = None\n",
    "                if elem.articulations:\n",
    "                    for art in elem.articulations:\n",
    "                        if isinstance(art, articulations.Fingering):\n",
    "                            fingering = art.fingerNumber\n",
    "                \n",
    "                \n",
    "                if fingering is not None and (fingering < 1 or fingering > 5):\n",
    "                    print(f\"NOTE: {name}, Fingering {fingering} outside the valid range (1-5) at measure (idx): {measure_idx}, .\")\n",
    "                    measure.show()  \n",
    "\n",
    "                data.append([idx, round(onset, 3), round(offset, 3), name, 0, 0, beam, fingering if fingering is not None else 99])\n",
    "                idx += 1\n",
    "            \n",
    "            elif isinstance(elem, chord.Chord):\n",
    "                name_pitch = [pitch.nameWithOctave.replace('-', 'b') for pitch in elem.pitches]\n",
    "                fingering = []\n",
    "                \n",
    "                for art in elem.articulations:\n",
    "                    if isinstance(art, articulations.Fingering):\n",
    "                        finger = art.fingerNumber if art.fingerNumber is not None else 99\n",
    "                        fingering.append(finger)\n",
    "                \n",
    "                while len(fingering) < len(name_pitch):\n",
    "                    fingering.append(99)\n",
    "                \n",
    "                for i in range(len(name_pitch)):\n",
    "                    if int(fingering[i]) < 1 or int(fingering[i]) > 5:\n",
    "                        print(f\"NOETE: {name_pitch[i]}, Fingering {fingering[i]} outside the valid range (1-5) at measure (idx): {measure_idx}.\")\n",
    "                        measure.show()  \n",
    "                        \n",
    "                    data.append([idx, round(onset, 3), round(offset, 3), name_pitch[i], 0, 0, beam, fingering[i]])\n",
    "                    idx += 1\n",
    "    \n",
    "    df = pd.DataFrame(data, columns=[\"idx\", \"onset\", \"offset\", \"name\", \"col1\", \"col2\", \"beam\", \"fingering\"])\n",
    "    \n",
    "    df.to_csv(fname, index=False, header=False)\n",
    "    return df\n"
   ]
  },
  {
   "cell_type": "code",
   "execution_count": null,
   "metadata": {
    "execution": {
     "iopub.execute_input": "2025-02-12T19:53:09.380123Z",
     "iopub.status.busy": "2025-02-12T19:53:09.379803Z",
     "iopub.status.idle": "2025-02-12T19:53:09.385485Z",
     "shell.execute_reply": "2025-02-12T19:53:09.384616Z",
     "shell.execute_reply.started": "2025-02-12T19:53:09.380096Z"
    }
   },
   "outputs": [],
   "source": [
    "def xml_to_csv(input_file, pig_right, pig_left=\"\"):\n",
    "    \n",
    "    piece = music21.converter.parse(input_file)\n",
    "    right_hand = piece.parts[0]\n",
    "    # left_hand = bwv295.parts[1]\n",
    "    \n",
    "    Stream2PIG(right_hand, pig_right, test=True, n=11, beam=0, time_unit=1.0)\n",
    "    header = [\"ID\", \"onset_time\", \"offset_time\", \"pitch\", \\\n",
    "          \"onset_vel\", \"offset_vel\", \"channel\", \"finger\"]\n",
    "    df = pd.read_csv(pig_right, sep=\" \", names=header)\n",
    "    a = df[df[\"finger\"] == '99']\n",
    "    if len(a) > 0:\n",
    "        print(a)\n",
    "        raise ValueError(f\"Found 99 in {input_file}\")\n",
    "     \n"
   ]
  },
  {
   "cell_type": "code",
   "execution_count": null,
   "metadata": {},
   "outputs": [
    {
     "name": "stdout",
     "output_type": "stream",
     "text": [
      "50 Little Etudes, No. 21 - 30 – Isaak Berkovich.mxl\n",
      "\n",
      "50_Little_Etudes_No._11_-_20__Isaak_Berkovich.mxl\n",
      "\n",
      "50_Little_Etudes_No._1_-_10__Isaak_Berkovich.mxl\n",
      "\n",
      "Air_on_the_G_string_with_fingering.mxl\n",
      "\n",
      "All of Me - Lead Sheet with Fingering.mxl\n",
      "\n",
      "Bach G minor arr. Luo Ni (with fingering).mxl\n",
      "\n",
      "Blumenlied, Op.39 – Gustav Lange (with fingerings).mxl\n",
      "\n",
      "Canon_in_D_By_OMID.mxl\n",
      "\n",
      "Chopin_-_Nocturne_No.20_with_fingering_in_C_Minor_Op._posth.mxl\n",
      "\n",
      "Cuphead - Inkwell Isle (Beginner-Intermediate with Fingering) – Kristofer Maddigan.mxl\n",
      "\n",
      "Czerny - Op 740_ The Art of Finger Dexterity - No 11.mxl\n",
      "\n",
      "Czerny - School Of Velocity - Op. 299 No. 11.mxl\n",
      "\n",
      "Czerny - School Of Velocity - Op. 299 No. 2.mxl\n",
      "\n",
      "Czerny - School Of Velocity - Op. 299 No. 3.mxl\n",
      "\n",
      "Czerny - School Of Velocity - Op. 299 No. 4.mxl\n",
      "\n",
      "Czerny - School Of Velocity - Op. 299 No. 5.mxl\n",
      "\n",
      "Czerny - School Of Velocity - Op. 299 No. 6.mxl\n",
      "\n",
      "Czerny - School Of Velocity - Op. 299 No. 8.mxl\n",
      "\n",
      "Czerny - School Of Velocity - Op. 299 No. 9.mxl\n",
      "\n",
      "Czerny_-_School_Of_Velocity_-_Op._299_No._1.mxl\n",
      "\n",
      "Fantasia D minor, K. 397 – Mozart (fingered).mxl\n",
      "\n",
      "Golden Hour - JVKE (with fingering).mxl\n",
      "\n",
      "Great Fairy Fountain - Zelda (with fingering).mxl\n",
      "\n",
      "Greensleeves_Piano_Debutant.mxl\n",
      "\n",
      "Gymnopedie1.mxl\n",
      "\n",
      "Invention_4_by_J_S_Bach_BWV_775_for_Piano_with_fingering.mxl\n",
      "\n",
      "L'ADDIO - F. Battiato - Inter.arr.  with fingered  -Free.mxl\n",
      "\n",
      "Mariage_dAmour_arr_Elpiano_w_fingering.mxl\n",
      "\n",
      "Mazurka.mxl\n",
      "\n",
      "Minuet _in_F_Major_Anna_Bachmxl.mxl\n",
      "\n",
      "Minuet_in_G_Major_Bach.mxl\n",
      "\n",
      "Nerevar Rising - Morrowind – Jeremy Soule Morrowind Theme with fingering.mxl\n",
      "\n",
      "Nostalgie – Olivier Toussaint.mxl\n",
      "\n",
      "Petite_Fleur____Becket_EASE.mxl\n",
      "\n",
      "Prelude_No._1_in_C_Major_BWV_846_with_finger_suggestions_-_Johann_Sebastian_Bach (1).mxl\n",
      "\n",
      "Quiet Resource - Evelyn Stein (with fingering).mxl\n",
      "\n",
      "Root Beer Rag Theme - Easy to read (with fingering).mxl\n",
      "\n",
      "Scherzo by Franz Joseph Haydn.mxl\n",
      "\n",
      "The_Art_of_Fugue_Contrapunctus_1_BWV_1080__Johann_Sebastian_Bach_includes_fingering.mxl\n",
      "\n",
      "The_Harebell_by_William_Smallwood3.mxl\n",
      "\n",
      "Waltz_in_A_minor_2024_With_Fingerings.mxl\n",
      "\n"
     ]
    }
   ],
   "source": [
    "for dirname, _, filenames in os.walk('./processed_xml/mxl/'):\n",
    "    for filename in filenames:\n",
    "            full_name = os.path.join(dirname, filename)\n",
    "            print(filename, end='\\n\\n')\n",
    "            xml_to_csv(full_name, f'output_new_right/right_{filename[:-4]}.csv',  \n",
    "                        f'output_new_left/left_{filename[:-4]}.csv')\n",
    "\n",
    "\n"
   ]
  }
 ],
 "metadata": {
  "kaggle": {
   "accelerator": "gpu",
   "dataSources": [
    {
     "datasetId": 6532140,
     "sourceId": 10712301,
     "sourceType": "datasetVersion"
    },
    {
     "datasetId": 6655885,
     "sourceId": 10735025,
     "sourceType": "datasetVersion"
    },
    {
     "datasetId": 6527006,
     "isSourceIdPinned": true,
     "sourceId": 10549015,
     "sourceType": "datasetVersion"
    }
   ],
   "dockerImageVersionId": 30840,
   "isGpuEnabled": true,
   "isInternetEnabled": true,
   "language": "python",
   "sourceType": "notebook"
  },
  "kernelspec": {
   "display_name": "Python 3",
   "language": "python",
   "name": "python3"
  },
  "language_info": {
   "codemirror_mode": {
    "name": "ipython",
    "version": 3
   },
   "file_extension": ".py",
   "mimetype": "text/x-python",
   "name": "python",
   "nbconvert_exporter": "python",
   "pygments_lexer": "ipython3",
   "version": "3.11.3"
  }
 },
 "nbformat": 4,
 "nbformat_minor": 4
}
